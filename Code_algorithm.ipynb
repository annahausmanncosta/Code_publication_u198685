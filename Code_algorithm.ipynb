{
 "cells": [
  {
   "cell_type": "markdown",
   "id": "8673e252",
   "metadata": {},
   "source": [
    "# Algorisme Estratègies Evolutives $(\\mu+\\lambda)$ amb auto-adaptació.\n",
    "\n",
    "\n",
    "\n",
    "- Crear població inicial $\\{x^1,...,x^\\mu\\}$. \n",
    "  Cada individu $x^i$ és de la forma $x^i=(x^i_1,..., x^i_n, \\sigma_1, ..., \\sigma_n)$, on $n$ és el nombre de paràmetres que voleu estimar.\n",
    "- Avaluar cada membre de la població.\n",
    "- Fins que es compleixi la condició de finalització:\n",
    "\n",
    "  - Fins que es creïn $\\lambda$ fills:\n",
    "    - Seleccionar pare aleatòriament (un pare pot ser seleccionat múltiples vegades), i crear fill aplicant mutació. Avaluar fill. \n",
    "  - Ordenar els $\\mu+\\lambda$ individus segons fitness.\n",
    "  - Seleccionar els millors $\\mu$ per la següent generació.\n",
    "\n",
    "*Mutació (\"self-adaptive, n-step size\"):*\n",
    "\n",
    "Apliquem mutació gaussiana, on cada paràmetre té la seva desviació estàndard que s'autoadapta durant l'evolució. Per cada individu, la mutació de cada paràmetre $i, i = 1,...n$,  consisteix en dos passos: mutació de $\\sigma_i$ i mutació del paràmetre $x_i$ segons la nova $\\sigma_i$. \n",
    "\n",
    "- $\\sigma_i(t+1)=\\sigma_i(t) exp(\\tau' r' + \\tau \\hat{r_i})$\n",
    "\n",
    "- $x_i(t+1) = x_i(t) + \\sigma_i(t+1)r_i$\n",
    "\n",
    "    \n",
    "On:\n",
    "- $\\tau' \\propto 1 /\\sqrt{2 n} $\n",
    "- $\\tau \\propto 1/\\sqrt{2 \\sqrt n}$\n",
    "- $r', \\hat{r_1},...\\hat{r_n}, r_1,...,r_n$ són i.i.d variables aleatòries extretes de la distribució normal estàndard $\\mathcal{N}(0,1)$.\n",
    "\n",
    "\n",
    "\n",
    "\n",
    "\n",
    "\n"
   ]
  },
  {
   "cell_type": "code",
   "execution_count": 11,
   "id": "41ee765d",
   "metadata": {},
   "outputs": [],
   "source": [
    "import numpy as np\n",
    "import matplotlib.pyplot as plt\n",
    "from functools import partial\n",
    "from IPython import display\n",
    "import copy\n",
    "import math\n",
    "import random"
   ]
  },
  {
   "cell_type": "markdown",
   "id": "a2d373fb",
   "metadata": {},
   "source": [
    "Classe individu"
   ]
  },
  {
   "cell_type": "code",
   "execution_count": 4,
   "id": "3ae1a62c",
   "metadata": {},
   "outputs": [],
   "source": [
    "class individual:\n",
    "   \n",
    "    def __init__ (self, n=1, bslow = [0,0], bhigh = [1,1], g= [], fitness = 0, sigma = []):\n",
    "       \n",
    "        #definim els atributs\n",
    "        self.ngenes = n\n",
    "        self.fitness = fitness\n",
    "        \n",
    "       \n",
    "        #rang del genotip\n",
    "        self.boundslow = bslow\n",
    "        self.boundhigh = bhigh\n",
    "        \n",
    "        \n",
    "        if len(g) == 0:\n",
    "            self.genotype = self.set_random_genotype()\n",
    "            \n",
    "        else: \n",
    "            self.genotype = np.array(g)\n",
    "            \n",
    "        if len(sigma)==0:\n",
    "            self.sigma = self.set_sigma()\n",
    "            \n",
    "       \n",
    "           \n",
    "    #funció en cas que el genotip no estigui definit, tindrà un valor continu en el rang definit (boundslow i boundhigh)\n",
    "    def set_random_genotype (self):\n",
    "        self.genotype = np.random.uniform(low=self.boundslow, high=self.boundhigh, size = self.ngenes)\n",
    "        \n",
    "    #definim sigmes per cada numero de gens  \n",
    "    def set_sigma(self):\n",
    "        self.sigma = []\n",
    "        for i in range(self.ngenes):\n",
    "            self.sigma.append(0.5) #les definim totes iguals en un inici, despres s'aniran mutant \n",
    "     \n",
    "        return self.sigma\n",
    "    "
   ]
  },
  {
   "cell_type": "markdown",
   "id": "56c9df93",
   "metadata": {},
   "source": [
    "Càlcul de la fitness"
   ]
  },
  {
   "cell_type": "code",
   "execution_count": 5,
   "id": "ea5732ea",
   "metadata": {},
   "outputs": [],
   "source": [
    "\n",
    "#funcio de fitness, calcul de la fitness de cada individu\n",
    "def assign_fitness(x,y,individu):\n",
    "    a = individu.genotype[0]\n",
    "    b = individu.genotype[1]\n",
    "    x = np.arange(1, 11)\n",
    "        \n",
    "    y = a * x + b\n",
    "    ysoroll = y + np.random.normal(loc=0, scale=1, size=(10)) \n",
    "    \n",
    "    MSE = np.mean(np.square(y - ysoroll))\n",
    "    fitness = 1.0 / MSE\n",
    "    \n",
    "    return fitness\n"
   ]
  },
  {
   "cell_type": "markdown",
   "id": "9f74a69a",
   "metadata": {},
   "source": [
    "*Mutació (\"self-adaptive, n-step size\"):*"
   ]
  },
  {
   "cell_type": "code",
   "execution_count": 6,
   "id": "1950a2c5",
   "metadata": {},
   "outputs": [],
   "source": [
    "#funcio de mutacio que et retorna el fill (individu): copia del pare amb una x mutacio \n",
    "def mutate(individual):\n",
    "    \n",
    "    n = len(individual.genotype) \n",
    "    \n",
    "    \n",
    "    #fem una copia del pare per conservar el pare al crear el fill \n",
    "    fill = copy.deepcopy(individu) \n",
    "    \n",
    "  \n",
    "    \n",
    "    tau_prime = 1 / (math.sqrt(2 * n))        \n",
    "    tau = 1 / (math.sqrt(2 * math.sqrt(n)))\n",
    "\n",
    "\n",
    "    for i in range(n):\n",
    "        \n",
    "        r_prime = np.random.normal(0,1)  # r prima    \n",
    "        r_hat = np.random.normal(0,1)  # r i gorro\n",
    "        r = np.random.normal(0,1)  # r i\n",
    "        \n",
    "        fill.sigma[i] = fill.sigma[i]*math.exp(tau_prime*r_prime + tau*r_hat)\n",
    "    \n",
    "        fill.genotype[i] = fill.genotype[i] + fill.sigma[i]*r  #apliquem la mutacio en el gen amb la nova tau\n",
    "            \n",
    "\n",
    "    return fill"
   ]
  },
  {
   "cell_type": "markdown",
   "id": "28bad3a9",
   "metadata": {},
   "source": [
    "Funcio de ordre i seleccio"
   ]
  },
  {
   "cell_type": "code",
   "execution_count": 7,
   "id": "b83275ed",
   "metadata": {},
   "outputs": [],
   "source": [
    "\n",
    "#funcio que ens ordena els individus de millor a pitjor fitness\n",
    "def ordre(poblacio):\n",
    "    return list(sorted(poblacio, key=lambda atr: atr.fitness))\n",
    "\n"
   ]
  },
  {
   "cell_type": "code",
   "execution_count": 8,
   "id": "0796fd0b",
   "metadata": {},
   "outputs": [],
   "source": [
    "#funcio que et selecciona els individus amb millor fitness segons la mu que posem \n",
    "\n",
    "def select (poblacio, mu):\n",
    "    \n",
    "    if mu>= len(poblacio):\n",
    "        \n",
    "        return (poblacio)\n",
    "        \n",
    "    else: \n",
    "        \n",
    "        return (poblacio[-mu:])"
   ]
  },
  {
   "cell_type": "markdown",
   "id": "8807f0c7",
   "metadata": {},
   "source": [
    "ALGORISME"
   ]
  },
  {
   "cell_type": "code",
   "execution_count": 9,
   "id": "845b9a0b",
   "metadata": {},
   "outputs": [],
   "source": [
    "def algorisme (poblacio, lamb, mu, x, y):\n",
    "    \n",
    "    #calculem fitness dels pares i dels fills \n",
    "\n",
    "    for individu in poblacio:\n",
    "        assign_fitness (x,y,individu)\n",
    "    \n",
    "    #bucle que aniran entran cada generacio \n",
    "    for i in range (100):\n",
    "    \n",
    "        #creem la poblacio dels fills mutats \n",
    "        poblacio_fills = []\n",
    "\n",
    "        for i in range (lamb): #generem lamb fills\n",
    "            individu_pare = random.randint(0,len(poblacio)-1) #seleccionem un pare\n",
    "            fills = mutate(poblacio[individu_pare]) #creem el fill a partir d'aquell pare + mutacio\n",
    "            poblacio_fills.append(fills) #afegim els fills a una llista\n",
    "            assign_fitness (x,y,fills) #calculem la fitness dels fills\n",
    "            \n",
    "\n",
    "        #afegim els fills a la poblacio\n",
    "        poblacio.extend(poblacio_fills)\n",
    "\n",
    "        #ordenem tota la poblacio segons la fitness \n",
    "        poblacio_ordenada = ordre(poblacio)\n",
    "\n",
    "        #seleccionem els individus amb millor fitness per la seguent generacio\n",
    "        seleccio_poblacio = select(poblacio_ordenada, mu)\n",
    "    \n",
    "        #actualizem la poblacio, que torna a entrar al bucle 100 vegades\n",
    "        poblacio = seleccio_poblacio\n",
    "    \n",
    "    bestindividu = poblacio[0]\n",
    "    \n",
    "    return  bestindividu \n",
    "    "
   ]
  },
  {
   "cell_type": "markdown",
   "id": "65cbf161",
   "metadata": {},
   "source": [
    "Apartir d'un dataset, escollim el millor individu despres de x generacions"
   ]
  },
  {
   "cell_type": "code",
   "execution_count": 12,
   "id": "e86ced0b",
   "metadata": {},
   "outputs": [
    {
     "name": "stdout",
     "output_type": "stream",
     "text": [
      "[0 3]\n"
     ]
    }
   ],
   "source": [
    "x = np.arange(10)\n",
    "y = x + 300 #creem la recta que volem aproximar\n",
    "poblacio = []\n",
    "\n",
    "#ho comprovem generant una poblacio de 10 individus \n",
    "for i in range(1000): \n",
    "    g1 = random.randint(1, 10)\n",
    "    g2 = random.randint(1, 10)\n",
    "    individu = individual(n=2, g=[g1, g2])\n",
    "    poblacio.append(individu) # Añadimos a la población los individuos que vamos creando\n",
    "\n",
    "bestindividual = algorisme(poblacio, 80, 120, x, y) \n",
    "\n",
    "print(bestindividual.genotype)"
   ]
  },
  {
   "cell_type": "code",
   "execution_count": null,
   "id": "15016b29",
   "metadata": {},
   "outputs": [],
   "source": []
  }
 ],
 "metadata": {
  "kernelspec": {
   "display_name": "Python 3 (ipykernel)",
   "language": "python",
   "name": "python3"
  },
  "language_info": {
   "codemirror_mode": {
    "name": "ipython",
    "version": 3
   },
   "file_extension": ".py",
   "mimetype": "text/x-python",
   "name": "python",
   "nbconvert_exporter": "python",
   "pygments_lexer": "ipython3",
   "version": "3.9.13"
  }
 },
 "nbformat": 4,
 "nbformat_minor": 5
}
